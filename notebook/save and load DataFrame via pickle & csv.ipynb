{
 "cells": [
  {
   "cell_type": "code",
   "execution_count": 1,
   "metadata": {},
   "outputs": [
    {
     "name": "stderr",
     "output_type": "stream",
     "text": [
      "/mnt/c/Users/i7-6700/Documents/system-trading/venv/local/lib/python2.7/site-packages/fix_yahoo_finance/__init__.py:43: DeprecationWarning: \n",
      "    Auto-overriding of pandas_datareader's get_data_yahoo() is deprecated and will be removed in future versions.\n",
      "    Use pdr_override() to explicitly override it.\n",
      "  DeprecationWarning)\n"
     ]
    }
   ],
   "source": [
    "from pandas_datareader import data\n",
    "# https://github.com/ranaroussi/fix-yahoo-finance\n",
    "# 야후 데이터 가져오는게 문제가 있어서 이걸 써줘야된다\n",
    "import fix_yahoo_finance as yf\n",
    "\n",
    "yf.pdr_override()  # <== that's all it takes :-)\n",
    "\n",
    "\n",
    "class StockData:\n",
    "    \"\"\"\n",
    "    arg stock = {\n",
    "        \"ticker\": ticker_val, ...string\n",
    "        \"market\": kospi, kosdaq, nasdaq, ...string\n",
    "    }\n",
    "    \"\"\"\n",
    "    def __init__(self):\n",
    "        pass\n",
    "\n",
    "    def format_ticker(stock):\n",
    "        pass\n",
    "\n",
    "    def _get_kospi(self, stock):  # conventional private naming\n",
    "        ticker = stock['ticker']\n",
    "        return data.get_data_google(ticker)\n",
    "\n",
    "    def _get_kosdaq(self, stock):\n",
    "        ticker = stock['ticker']\n",
    "        return data.get_data_yahoo(ticker)\n",
    "\n",
    "    def _get_nasdaq(self, stock):\n",
    "        ticker = stock['ticker']\n",
    "        return data.get_data_google(ticker)\n",
    "\n",
    "    def error(self, stock):\n",
    "        raise Exception('unexpected market name {}'.format(stock['market']))\n",
    "\n",
    "    def get_csv(self, stock):\n",
    "        mname = '_get_' + stock['market']\n",
    "        if hasattr(self, mname):\n",
    "            print(mname)\n",
    "            method = getattr(self, mname)\n",
    "            return method(stock)\n",
    "        else:\n",
    "            self.error(stock)\n",
    "\n",
    "stock_api = StockData()\n"
   ]
  },
  {
   "cell_type": "code",
   "execution_count": 2,
   "metadata": {},
   "outputs": [
    {
     "name": "stdout",
     "output_type": "stream",
     "text": [
      "_get_kospi\n"
     ]
    }
   ],
   "source": [
    "naver = stock_api.get_csv({\n",
    "                'ticker': 'KRX:035420',\n",
    "                'market': 'kospi',\n",
    "            })"
   ]
  },
  {
   "cell_type": "code",
   "execution_count": 11,
   "metadata": {},
   "outputs": [],
   "source": [
    "naver.to_pickle('../app/data/naver.pickle')"
   ]
  },
  {
   "cell_type": "code",
   "execution_count": 12,
   "metadata": {},
   "outputs": [],
   "source": [
    "naver.to_csv('../app/data/naver.csv')"
   ]
  },
  {
   "cell_type": "code",
   "execution_count": 13,
   "metadata": {
    "collapsed": true
   },
   "outputs": [],
   "source": [
    "import pandas as pd"
   ]
  },
  {
   "cell_type": "code",
   "execution_count": 14,
   "metadata": {},
   "outputs": [],
   "source": [
    "naver_from_csv = pd.read_csv('../app/data/naver.csv', )"
   ]
  },
  {
   "cell_type": "code",
   "execution_count": 16,
   "metadata": {},
   "outputs": [],
   "source": [
    "naver_from_pickle = pd.read_pickle('../app/data/naver.pickle')"
   ]
  },
  {
   "cell_type": "code",
   "execution_count": 20,
   "metadata": {},
   "outputs": [
    {
     "data": {
      "text/html": [
       "<div>\n",
       "<table border=\"1\" class=\"dataframe\">\n",
       "  <thead>\n",
       "    <tr style=\"text-align: right;\">\n",
       "      <th></th>\n",
       "      <th>Date</th>\n",
       "      <th>Open</th>\n",
       "      <th>High</th>\n",
       "      <th>Low</th>\n",
       "      <th>Close</th>\n",
       "      <th>Volume</th>\n",
       "    </tr>\n",
       "  </thead>\n",
       "  <tbody>\n",
       "    <tr>\n",
       "      <th>0</th>\n",
       "      <td>2010-01-04</td>\n",
       "      <td>190000.0</td>\n",
       "      <td>193500.0</td>\n",
       "      <td>189000.0</td>\n",
       "      <td>193000.0</td>\n",
       "      <td>237764</td>\n",
       "    </tr>\n",
       "    <tr>\n",
       "      <th>1</th>\n",
       "      <td>2010-01-05</td>\n",
       "      <td>191500.0</td>\n",
       "      <td>196000.0</td>\n",
       "      <td>190000.0</td>\n",
       "      <td>193000.0</td>\n",
       "      <td>222855</td>\n",
       "    </tr>\n",
       "    <tr>\n",
       "      <th>2</th>\n",
       "      <td>2010-01-06</td>\n",
       "      <td>193000.0</td>\n",
       "      <td>197000.0</td>\n",
       "      <td>192000.0</td>\n",
       "      <td>192000.0</td>\n",
       "      <td>308772</td>\n",
       "    </tr>\n",
       "    <tr>\n",
       "      <th>3</th>\n",
       "      <td>2010-01-07</td>\n",
       "      <td>192500.0</td>\n",
       "      <td>196000.0</td>\n",
       "      <td>191000.0</td>\n",
       "      <td>192500.0</td>\n",
       "      <td>179224</td>\n",
       "    </tr>\n",
       "    <tr>\n",
       "      <th>4</th>\n",
       "      <td>2010-01-08</td>\n",
       "      <td>192500.0</td>\n",
       "      <td>195000.0</td>\n",
       "      <td>186000.0</td>\n",
       "      <td>186000.0</td>\n",
       "      <td>209845</td>\n",
       "    </tr>\n",
       "  </tbody>\n",
       "</table>\n",
       "</div>"
      ],
      "text/plain": [
       "         Date      Open      High       Low     Close  Volume\n",
       "0  2010-01-04  190000.0  193500.0  189000.0  193000.0  237764\n",
       "1  2010-01-05  191500.0  196000.0  190000.0  193000.0  222855\n",
       "2  2010-01-06  193000.0  197000.0  192000.0  192000.0  308772\n",
       "3  2010-01-07  192500.0  196000.0  191000.0  192500.0  179224\n",
       "4  2010-01-08  192500.0  195000.0  186000.0  186000.0  209845"
      ]
     },
     "execution_count": 20,
     "metadata": {},
     "output_type": "execute_result"
    }
   ],
   "source": [
    "naver_from_csv.head() # read_csv 로 불러온데이터는 앞에 인덱스가 따로 붙는다"
   ]
  },
  {
   "cell_type": "code",
   "execution_count": 21,
   "metadata": {},
   "outputs": [
    {
     "data": {
      "text/html": [
       "<div>\n",
       "<table border=\"1\" class=\"dataframe\">\n",
       "  <thead>\n",
       "    <tr style=\"text-align: right;\">\n",
       "      <th></th>\n",
       "      <th>Open</th>\n",
       "      <th>High</th>\n",
       "      <th>Low</th>\n",
       "      <th>Close</th>\n",
       "      <th>Volume</th>\n",
       "    </tr>\n",
       "    <tr>\n",
       "      <th>Date</th>\n",
       "      <th></th>\n",
       "      <th></th>\n",
       "      <th></th>\n",
       "      <th></th>\n",
       "      <th></th>\n",
       "    </tr>\n",
       "  </thead>\n",
       "  <tbody>\n",
       "    <tr>\n",
       "      <th>2010-01-04</th>\n",
       "      <td>190000.0</td>\n",
       "      <td>193500.0</td>\n",
       "      <td>189000.0</td>\n",
       "      <td>193000.0</td>\n",
       "      <td>237764</td>\n",
       "    </tr>\n",
       "    <tr>\n",
       "      <th>2010-01-05</th>\n",
       "      <td>191500.0</td>\n",
       "      <td>196000.0</td>\n",
       "      <td>190000.0</td>\n",
       "      <td>193000.0</td>\n",
       "      <td>222855</td>\n",
       "    </tr>\n",
       "    <tr>\n",
       "      <th>2010-01-06</th>\n",
       "      <td>193000.0</td>\n",
       "      <td>197000.0</td>\n",
       "      <td>192000.0</td>\n",
       "      <td>192000.0</td>\n",
       "      <td>308772</td>\n",
       "    </tr>\n",
       "    <tr>\n",
       "      <th>2010-01-07</th>\n",
       "      <td>192500.0</td>\n",
       "      <td>196000.0</td>\n",
       "      <td>191000.0</td>\n",
       "      <td>192500.0</td>\n",
       "      <td>179224</td>\n",
       "    </tr>\n",
       "    <tr>\n",
       "      <th>2010-01-08</th>\n",
       "      <td>192500.0</td>\n",
       "      <td>195000.0</td>\n",
       "      <td>186000.0</td>\n",
       "      <td>186000.0</td>\n",
       "      <td>209845</td>\n",
       "    </tr>\n",
       "  </tbody>\n",
       "</table>\n",
       "</div>"
      ],
      "text/plain": [
       "                Open      High       Low     Close  Volume\n",
       "Date                                                      \n",
       "2010-01-04  190000.0  193500.0  189000.0  193000.0  237764\n",
       "2010-01-05  191500.0  196000.0  190000.0  193000.0  222855\n",
       "2010-01-06  193000.0  197000.0  192000.0  192000.0  308772\n",
       "2010-01-07  192500.0  196000.0  191000.0  192500.0  179224\n",
       "2010-01-08  192500.0  195000.0  186000.0  186000.0  209845"
      ]
     },
     "execution_count": 21,
     "metadata": {},
     "output_type": "execute_result"
    }
   ],
   "source": [
    "naver_from_pickle.head()"
   ]
  },
  {
   "cell_type": "code",
   "execution_count": null,
   "metadata": {},
   "outputs": [],
   "source": []
  },
  {
   "cell_type": "code",
   "execution_count": null,
   "metadata": {
    "collapsed": true
   },
   "outputs": [],
   "source": []
  }
 ],
 "metadata": {
  "kernelspec": {
   "display_name": "Python 2",
   "language": "python",
   "name": "python2"
  },
  "language_info": {
   "codemirror_mode": {
    "name": "ipython",
    "version": 2
   },
   "file_extension": ".py",
   "mimetype": "text/x-python",
   "name": "python",
   "nbconvert_exporter": "python",
   "pygments_lexer": "ipython2",
   "version": "2.7.6"
  }
 },
 "nbformat": 4,
 "nbformat_minor": 2
}
